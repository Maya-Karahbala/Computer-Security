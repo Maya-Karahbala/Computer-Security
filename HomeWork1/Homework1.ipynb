{
 "cells": [
  {
   "cell_type": "markdown",
   "metadata": {},
   "source": [
    "##   BLM442E Spring 2020\n",
    "## Homework 1\n"
   ]
  },
  {
   "cell_type": "markdown",
   "metadata": {},
   "source": [
    "## Question 1\n",
    "Generate an RSA public-private key pair. K A+ and K A- ."
   ]
  },
  {
   "cell_type": "code",
   "execution_count": 1,
   "metadata": {},
   "outputs": [],
   "source": [
    "import random\n",
    "from sympy import mod_inverse\n",
    "\n",
    "'''\n",
    "Euclid's algorithm for determining the greatest common divisor\n",
    "Use iteration to make it faster for larger integers\n",
    "'''\n",
    "def gcd(a, b):\n",
    "    while b != 0:\n",
    "        a, b = b, a % b\n",
    "    return a\n",
    "\n",
    "def is_prime(num):\n",
    "    if num == 2:\n",
    "        return True\n",
    "    if num < 2 or num % 2 == 0:\n",
    "        return False\n",
    "    for n in range(3, int(num**0.5)+2, 2):\n",
    "        if num % n == 0:\n",
    "            return False\n",
    "    return True\n",
    "\n",
    "def generate_keypair(p, q):\n",
    "    if not (is_prime(p) and is_prime(q)):\n",
    "        raise ValueError('Both numbers must be prime.')\n",
    "    elif p == q:\n",
    "        raise ValueError('p and q cannot be equal')\n",
    "    #n = pq\n",
    "    n = p * q\n",
    "\n",
    "    #Phi is the totient of n\n",
    "    phi = (p-1) * (q-1)\n",
    "\n",
    "    #Choose an integer e such that e and phi(n) are coprime\n",
    "    e = random.randrange(1, phi)\n",
    "\n",
    "    #Use Euclid's Algorithm to verify that e and phi(n) are comprime\n",
    "    g = gcd(e, phi)\n",
    "    while g != 1:\n",
    "        e = random.randrange(1, phi)\n",
    "        g = gcd(e, phi)\n",
    "\n",
    "    #Use Extended Euclid's Algorithm to generate the private key\n",
    "    print(\"e =\",e)\n",
    "    d = mod_inverse(e,phi)\n",
    "    print(\"d =\",d)\n",
    "    #Return public and private keypair\n",
    "    #Public key is (e, n) and private key is (d, n)\n",
    "    return ((e, n), (d, n))\n",
    "\n",
    "def encrypt(pk, plaintext):\n",
    "   \n",
    "    #Unpack the key into it's components\n",
    "    e, n = pk\n",
    "     #c = m ^e mod  n\n",
    "    #Convert each letter in the plaintext to numbers based on the character using a^b mod m\n",
    "    cipher = [(ord(char) ** e) % n for char in plaintext]\n",
    "    #Return the array of bytes\n",
    "    return cipher\n",
    "\n",
    "def decrypt(pk, ciphertext):\n",
    "    #Unpack the key into its components\n",
    "    d, n = pk\n",
    "    #Generate the plaintext based on the ciphertext and key using a^b mod m\n",
    "    plain = [chr((char ** d) % n) for char in ciphertext]\n",
    "    #Return the array of bytes as a string\n",
    "    return ''.join(plain)\n"
   ]
  },
  {
   "cell_type": "code",
   "execution_count": 2,
   "metadata": {},
   "outputs": [
    {
     "name": "stdout",
     "output_type": "stream",
     "text": [
      "e = 2971\n",
      "d = 11275\n",
      "p = 103\n",
      "q = 149\n",
      "Your public key is  (2971, 15347)  and your private key is  (11275, 15347)\n"
     ]
    }
   ],
   "source": [
    "# in real word primes must be very very big\n",
    "primes =list(filter(lambda x: is_prime(x),list(range(100, 199))))\n",
    "p = random.choice(primes) \n",
    "#to prevent seleccting same prime we delete it from the list\n",
    "primes.remove(p)\n",
    "q=random.choice(primes) \n",
    "public, private = generate_keypair(p, q)\n",
    "print(\"p =\",p)\n",
    "print(\"q =\",q)\n",
    "print (\"Your public key is \", public ,\" and your private key is \", private)"
   ]
  },
  {
   "cell_type": "markdown",
   "metadata": {},
   "source": [
    "## Question 2\n",
    "Generate two symmetric keys: 128 bit K 1 and 256 bit K 2 . Print values of the keys on the\n",
    "screen. Encypt them with K A+ , print the results, and then decrypt them with K A- . Again print the\n",
    "results. Provide a screenshot showing your results."
   ]
  },
  {
   "cell_type": "code",
   "execution_count": 3,
   "metadata": {},
   "outputs": [
    {
     "name": "stdout",
     "output_type": "stream",
     "text": [
      "k1 ( 128  bit) =  327416971492181572621324843237217013296\n",
      "k2 ( 256  bit) =  104172059098179262338679915562060991909540178289310794867454593287495395101302\n"
     ]
    }
   ],
   "source": [
    "k1=random.randrange(2**127, 2**128)\n",
    "k2=random.randrange(2**255, 2**256)\n",
    "print(\"k1 (\",k1.bit_length(),\" bit) = \",k1)\n",
    "print(\"k2 (\",k2.bit_length(),\" bit) = \",k2)"
   ]
  },
  {
   "cell_type": "code",
   "execution_count": 4,
   "metadata": {},
   "outputs": [
    {
     "name": "stdout",
     "output_type": "stream",
     "text": [
      "k1  =  b'\\x14Q\\x1c\\x91@H=\\xc2\\x16\\xdf\\x9e6\\xac\\xa8,\\xf1'\n",
      "k2  =  b'\\x84g\\xa3pQ\\x1dh\\xda\\x8d\\xfb\\x00m\\x88\\tV\\xf1\\\\tei\\x01i1\\xc9\\x9cS3\\xb4\\xac\\xe3\\xc4`'\n"
     ]
    }
   ],
   "source": [
    "from Crypto.Random import get_random_bytes\n",
    "k1=get_random_bytes(16)\n",
    "k2=get_random_bytes(32)\n",
    "print(\"k1  = \",k1)\n",
    "print(\"k2  = \",k2)"
   ]
  },
  {
   "cell_type": "code",
   "execution_count": 5,
   "metadata": {},
   "outputs": [
    {
     "name": "stdout",
     "output_type": "stream",
     "text": [
      "Your encrypted k1 is: \n",
      "120871366148903378981012066772214890337898101448514890337885039810800713914112911489033781448587591489033789810965714890337886669475148903378850311893965714890337815214485148903378152112839641148903378947598101366\n",
      "Decrypting k1 with private key  (11275, 15347)\n",
      "Your k1 is:\n",
      "b'\\x14Q\\x1c\\x91@H=\\xc2\\x16\\xdf\\x9e6\\xac\\xa8,\\xf1'\n"
     ]
    }
   ],
   "source": [
    "\n",
    "encrypted_msg = encrypt(public, str(k1))\n",
    "print (\"Your encrypted k1 is: \")\n",
    "print (''.join(map(lambda x: str(x), encrypted_msg)))\n",
    "print (\"Decrypting k1 with private key \", private )\n",
    "print (\"Your k1 is:\")\n",
    "print (decrypt( private, encrypted_msg))"
   ]
  },
  {
   "cell_type": "code",
   "execution_count": 6,
   "metadata": {},
   "outputs": [
    {
     "name": "stdout",
     "output_type": "stream",
     "text": [
      "Your encrypted k2 is: \n",
      "120871366148903378112831206638111489033781529667915777221489033789810866687561489033788666152148903378112838666148903378947512087148903378151715171169314890337811283112831489043028158148903378947598101489014890430211893150931489033781517981015093981014890337814485850314890337885031448541499667148903378120871206614890337815214485148903378118939667148903378144851206673181366\n",
      "Decrypting k2 with private key  (11275, 15347)\n",
      "Your k2 is:\n",
      "b'\\x84g\\xa3pQ\\x1dh\\xda\\x8d\\xfb\\x00m\\x88\\tV\\xf1\\\\tei\\x01i1\\xc9\\x9cS3\\xb4\\xac\\xe3\\xc4`'\n"
     ]
    }
   ],
   "source": [
    "encrypted_msg = encrypt(public, str(k2))\n",
    "print (\"Your encrypted k2 is: \")\n",
    "print (''.join(map(lambda x: str(x), encrypted_msg)))\n",
    "print (\"Decrypting k2 with private key \", private )\n",
    "\n",
    "print (\"Your k2 is:\")\n",
    "print (decrypt(private , encrypted_msg))"
   ]
  },
  {
   "cell_type": "markdown",
   "metadata": {},
   "source": [
    "## Question 3\n",
    "Consider a long text m. Apply SHA256 Hash algorithm (Obtain the message digest, H(m)).\n",
    "Then encrypt it with K A- . (Thus generate a digital signature.) Then verify the digital signature.\n",
    "(Decrypt it with K A+ , apply Hash algorithm to the message, compare). Print m, H(m) and digital\n",
    "signature on the screen. Provide a screenshot. (Or you may print in a file and provide the file)\n"
   ]
  },
  {
   "cell_type": "markdown",
   "metadata": {},
   "source": [
    "### Generating a digital signature\n",
    "\n",
    "* for  creating digital signature we need hashed message and then encrypt it with private key digital signature= (message, K^-1(h(message)))"
   ]
  },
  {
   "cell_type": "code",
   "execution_count": 7,
   "metadata": {},
   "outputs": [
    {
     "name": "stdout",
     "output_type": "stream",
     "text": [
      "- your message is: \n",
      "this secret  message is writen by maya kara is here\n",
      "- Your encrypted H(message) is : \n",
      "36501303526659728761237126623719642126535972674836501303413034964214929123381233836505355266365052213035130358761365012653266365013035237126151233814929261526623712118535513035365012338237196429642130351303521182371211814929211821182615126532371126536748130351233859722615\n"
     ]
    }
   ],
   "source": [
    "from hashlib import sha256\n",
    "def hashFunction(message):\n",
    "    hashed = sha256(message.encode(\"UTF-8\")).hexdigest()\n",
    "    return hashed\n",
    "message=\"this secret  message is writen by maya kara is here\"\n",
    "hMsg= hashFunction(message)\n",
    "encryptedHMsg=encrypt(private, hMsg)\n",
    "print (\"- your message is: \")\n",
    "print(message)\n",
    "print (\"- Your encrypted H(message) is : \")\n",
    "print (''.join(map(lambda x: str(x), encryptedHMsg)))"
   ]
  },
  {
   "cell_type": "markdown",
   "metadata": {},
   "source": [
    "###  Verifying a digital signature\n",
    "* for verify the digital signature we need to Decrypt the encrypted H(m) in signature  with K A+ to obtain H(m)\n",
    "* get H(m) of the pure message in signature\n",
    "* compare bothe H(m) values if they are equal thr signature is valid"
   ]
  },
  {
   "cell_type": "code",
   "execution_count": 8,
   "metadata": {},
   "outputs": [
    {
     "name": "stdout",
     "output_type": "stream",
     "text": [
      "First  H(m) value:  39a067a72e0c38821dd3fa3b9963ea3975d15a74f93d722994741445e7ec9d05\n",
      "Second H(m) value:  39a067a72e0c38821dd3fa3b9963ea3975d15a74f93d722994741445e7ec9d05\n"
     ]
    }
   ],
   "source": [
    "print (\"First  H(m) value: \",decrypt(public , encryptedHMsg))\n",
    "print (\"Second H(m) value: \",hashFunction(message))"
   ]
  },
  {
   "cell_type": "markdown",
   "metadata": {},
   "source": [
    "## Question 4\n",
    "Generate or find any file of size 1MB. Now consider following three algorithms:\n",
    "* i) AES (128 bit key) in CBC mode.\n",
    "* ii) AES (256 bit key) in CBC mode.\n",
    "* iii) DES in CBC mode (you need to generate a 56 bit key for this).\n",
    "* a) Encrypt the file of size 1MB. Store the result (and submit it with the homework) (Note: IV\n",
    "should be randomly generated, Key = K 1 or K 2 ).\n",
    "* b) Decrypt the file and store the result. Show that it is the same as the original file.\n",
    "* c) Measure the time elapsed for encryption. Write it in your report. Comment on the result.\n",
    "* d) For the first algorithm, change Initialization Vector (IV) and show that the corresponding\n",
    "ciphertext chages for the same plaintext (Give the result for both)."
   ]
  },
  {
   "cell_type": "code",
   "execution_count": 9,
   "metadata": {},
   "outputs": [],
   "source": [
    "\n",
    "from Crypto import Random\n",
    "from Crypto.Cipher import AES\n",
    "import os\n",
    "import os.path\n",
    "from os import listdir\n",
    "from os.path import isfile, join\n",
    "import time\n",
    "\n",
    "\n",
    "class Encryptor:\n",
    "    def __init__(self, key):\n",
    "        self.key = key\n",
    "    # for soving not completed block in file end problem    \n",
    "    def pad(self, s):\n",
    "        return s + b\"\\0\" * (AES.block_size - len(s) % AES.block_size)\n",
    "\n",
    "    def encrypt(self, message, key, key_size=128):\n",
    "        message = self.pad(message)\n",
    "        iv = Random.new().read(AES.block_size)\n",
    "        print(\"iv= \",iv)\n",
    "        cipher = AES.new(key, AES.MODE_CBC, iv)\n",
    "        return iv + cipher.encrypt(message)\n",
    "\n",
    "    def encrypt_file(self, file_name):\n",
    "        with open(file_name, 'rb') as fo:\n",
    "            plaintext = fo.read()\n",
    "        enc = self.encrypt(plaintext, self.key)\n",
    "        with open(file_name + \".enc\", 'wb') as fo:\n",
    "            fo.write(enc)\n",
    "        os.remove(file_name)\n",
    "        return enc\n",
    "       \n",
    "\n",
    "    def decrypt(self, ciphertext, key):\n",
    "        iv = ciphertext[:AES.block_size]\n",
    "        cipher = AES.new(key, AES.MODE_CBC, iv)\n",
    "        plaintext = cipher.decrypt(ciphertext[AES.block_size:])\n",
    "        return plaintext.rstrip(b\"\\0\")\n",
    "\n",
    "    def decrypt_file(self, file_name):\n",
    "        with open(file_name, 'rb') as fo:\n",
    "            ciphertext = fo.read()\n",
    "        dec = self.decrypt(ciphertext, self.key)\n",
    "        with open(file_name[:-4], 'wb') as fo:\n",
    "            fo.write(dec)\n",
    "        os.remove(file_name)\n",
    "        return dec\n",
    " "
   ]
  },
  {
   "cell_type": "code",
   "execution_count": 10,
   "metadata": {},
   "outputs": [
    {
     "name": "stdout",
     "output_type": "stream",
     "text": [
      "iv=  b'o\\xdaH\\xe2\\xbfy\\x17\\x8a\\xc5t \\xc7n;\\xbf\\xf5'\n",
      "encryption time with k1 ( 128  bit) =  0.022490739822387695 seconds\n",
      "decryption time with k1 ( 128  bit) =  0.016085147857666016 seconds\n"
     ]
    }
   ],
   "source": [
    "start_time = time.time()\n",
    "enc = Encryptor(k1)\n",
    "clear = lambda: os.system('cls')\n",
    "enc.encrypt_file(\"data.txt\")\n",
    "print(\"encryption time with k1 ( 128  bit) =  %s seconds\" % (time.time() - start_time))\n",
    "\n",
    "start_time = time.time()\n",
    "enc.decrypt_file(\"data.txt.enc\")\n",
    "print(\"decryption time with k1 ( 128  bit) =  %s seconds\" % (time.time() - start_time))\n"
   ]
  },
  {
   "cell_type": "code",
   "execution_count": 11,
   "metadata": {},
   "outputs": [
    {
     "name": "stdout",
     "output_type": "stream",
     "text": [
      "iv=  b'\\xeen\\x07x\\xd17_X\\xaeY\\xc7\\xbb\\xe75\\x9e\\xe7'\n",
      "encryption time with k2 ( 256  bit) =  0.026482582092285156 seconds\n",
      "decryption time with k2 ( 256  bit) =  0.01511383056640625 seconds\n"
     ]
    }
   ],
   "source": [
    "start_time = time.time()\n",
    "enc = Encryptor(k2)\n",
    "clear = lambda: os.system('cls')\n",
    "enc.encrypt_file(\"data.txt\")\n",
    "print(\"encryption time with k2 ( 256  bit) =  %s seconds\" % (time.time() - start_time))\n",
    "\n",
    "start_time = time.time()\n",
    "enc.decrypt_file(\"data.txt.enc\")\n",
    "print(\"decryption time with k2 ( 256  bit) =  %s seconds\" % (time.time() - start_time))"
   ]
  },
  {
   "cell_type": "code",
   "execution_count": 12,
   "metadata": {
    "scrolled": true
   },
   "outputs": [
    {
     "name": "stdout",
     "output_type": "stream",
     "text": [
      "encryption time = 0.0010089874267578125 seconds ---\n",
      "decryption time = 0.00044345855712890625 seconds ---\n"
     ]
    }
   ],
   "source": [
    "from Crypto.Cipher import DES\n",
    "from Crypto.Util.Padding import pad, unpad\n",
    "from Crypto.Random import get_random_bytes\n",
    "\n",
    "class DESencryptor:\n",
    "    def __init__(self, key):\n",
    "        self.key = key\n",
    "        self.des =   DES.new(self.key, DES.MODE_ECB)\n",
    "\n",
    "\n",
    "    def encrypt(self, message):\n",
    "        message = pad(message,8)\n",
    "        \n",
    "        return self.des.encrypt(message)\n",
    "\n",
    "    def encrypt_file(self, file_name):\n",
    "        with open(file_name, 'rb') as fo:\n",
    "            plaintext = fo.read()\n",
    "        enc = self.encrypt(plaintext)\n",
    "        with open(file_name + \".enc\", 'wb') as fo:\n",
    "            fo.write(enc)\n",
    "        os.remove(file_name)\n",
    "        return enc\n",
    "    def decrypt(self, ciphertext):\n",
    "        return unpad(self.des.decrypt(ciphertext),8)\n",
    "\n",
    "    def decrypt_file(self, file_name):\n",
    "        with open(file_name, 'rb') as fo:\n",
    "            ciphertext = fo.read()\n",
    "        dec = self.decrypt(ciphertext)\n",
    "        with open(file_name[:-4], 'wb') as fo:\n",
    "            fo.write(dec)\n",
    "        os.remove(file_name)\n",
    "        return dec\n",
    "       \n",
    "\n",
    "\n",
    "\n",
    "\n",
    "key = get_random_bytes(8)\n",
    "\n",
    "start_time = time.time()\n",
    "desEnc = DESencryptor(key)\n",
    "clear = lambda: os.system('cls')\n",
    "desEnc.encrypt_file(\"data2.txt\")\n",
    "print(\"encryption time = %s seconds ---\" % (time.time() - start_time))\n",
    "start_time = time.time()\n",
    "desEnc.decrypt_file(\"data2.txt.enc\")\n",
    "print(\"decryption time = %s seconds ---\" % (time.time() - start_time))"
   ]
  },
  {
   "cell_type": "code",
   "execution_count": null,
   "metadata": {},
   "outputs": [],
   "source": []
  }
 ],
 "metadata": {
  "kernelspec": {
   "display_name": "Python 3",
   "language": "python",
   "name": "python3"
  },
  "language_info": {
   "codemirror_mode": {
    "name": "ipython",
    "version": 3
   },
   "file_extension": ".py",
   "mimetype": "text/x-python",
   "name": "python",
   "nbconvert_exporter": "python",
   "pygments_lexer": "ipython3",
   "version": "3.7.4"
  }
 },
 "nbformat": 4,
 "nbformat_minor": 2
}
